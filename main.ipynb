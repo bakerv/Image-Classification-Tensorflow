{
 "cells": [
  {
   "cell_type": "code",
   "execution_count": 6,
   "id": "4eb4b5e8-d993-4205-a9d7-8c80b32069e7",
   "metadata": {},
   "outputs": [],
   "source": [
    "import os\n",
    "import zipfile\n",
    "import random\n",
    "import tensorflow as tf\n",
    "import shutil\n",
    "from tensorflow.keras.optimizers import RMSprop\n",
    "from tensorflow.keras.preprocessing.image import ImageDataGenerator\n",
    "from shutil import copyfile\n",
    "from datapath import data_path, zip_path"
   ]
  },
  {
   "cell_type": "code",
   "execution_count": null,
   "id": "17425ab1-8b7d-4ae5-befb-364bc481ab8e",
   "metadata": {},
   "outputs": [],
   "source": [
    "zip_files ="
   ]
  }
 ],
 "metadata": {
  "kernelspec": {
   "display_name": "Python 3",
   "language": "python",
   "name": "python3"
  },
  "language_info": {
   "codemirror_mode": {
    "name": "ipython",
    "version": 3
   },
   "file_extension": ".py",
   "mimetype": "text/x-python",
   "name": "python",
   "nbconvert_exporter": "python",
   "pygments_lexer": "ipython3",
   "version": "3.8.10"
  }
 },
 "nbformat": 4,
 "nbformat_minor": 5
}
