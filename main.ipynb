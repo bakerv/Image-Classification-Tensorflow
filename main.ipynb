{
 "cells": [
  {
   "cell_type": "code",
   "execution_count": 1,
   "id": "4eb4b5e8-d993-4205-a9d7-8c80b32069e7",
   "metadata": {},
   "outputs": [],
   "source": [
    "import os\n",
    "import zipfile\n",
    "import random\n",
    "import tensorflow as tf\n",
    "import shutil\n",
    "from tensorflow.keras.optimizers import RMSprop\n",
    "from tensorflow.keras.preprocessing.image import ImageDataGenerator\n",
    "from shutil import copyfile\n",
    "from datapath import data_path, zip_path"
   ]
  },
  {
   "cell_type": "code",
   "execution_count": null,
   "id": "4143dbe4-0a5a-4c35-aa58-b4ef8e37016e",
   "metadata": {},
   "outputs": [],
   "source": [
    "# Unzip the data and remove the zipped files\n",
    "zip_outer = zipfile.ZipFile(zip_path,'r')\n",
    "zip_outer.extractall(data_path)\n",
    "zip_outer.close()\n",
    "\n",
    "zip_train = zipfile.ZipFile(f\"{data_path}\\\\train.zip\")\n",
    "zip_train.extractall(data_path)\n",
    "zip_train.close()\n",
    "\n",
    "zip_test = zipfile.ZipFile(f\"{data_path}\\\\test1.zip\")\n",
    "zip_test.extractall(data_path)\n",
    "zip_test.close()\n",
    "\n",
    "del zip_outer, zip_train, zip_test\n",
    "\n",
    "os.remove(f\"{data_path}\\\\train.zip\")\n",
    "os.remove(f\"{data_path}\\\\test1.zip\")"
   ]
  },
  {
   "cell_type": "code",
   "execution_count": 9,
   "id": "be896e49-163c-4085-a55f-cec53f3c09df",
   "metadata": {},
   "outputs": [],
   "source": [
    "# create filter directories for training and validation\n",
    "dir_train_cats = os.path.join(data_path,'train','cats')\n",
    "dir_train_dogs = os.path.join(data_path,'train','dogs')\n",
    "\n",
    "dir_validation = os.path.join(data_path,'validation')\n",
    "dir_val_cats = os.path.join(dir_validation, 'cats')\n",
    "dir_val_dogs = os.path.join(dir_validation, 'dogs')\n",
    "\n",
    "os.mkdir(dir_train_cats)\n",
    "os.mkdir(dir_train_dogs)\n",
    "os.mkdir(dir_validation)\n",
    "os.mkdir(dir_val_cats)\n",
    "os.mkdir(dir_val_dogs)"
   ]
  },
  {
   "cell_type": "code",
   "execution_count": null,
   "id": "be713107-87df-4ba5-9aa3-00b451e7b73f",
   "metadata": {},
   "outputs": [],
   "source": [
    "# filter files into the correct directories, and split portion of random files from the training data into a validation set\n",
    "\n",
    "def filter_images()"
   ]
  }
 ],
 "metadata": {
  "kernelspec": {
   "display_name": "Python 3",
   "language": "python",
   "name": "python3"
  },
  "language_info": {
   "codemirror_mode": {
    "name": "ipython",
    "version": 3
   },
   "file_extension": ".py",
   "mimetype": "text/x-python",
   "name": "python",
   "nbconvert_exporter": "python",
   "pygments_lexer": "ipython3",
   "version": "3.8.10"
  }
 },
 "nbformat": 4,
 "nbformat_minor": 5
}
