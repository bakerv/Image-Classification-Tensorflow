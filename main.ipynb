{
  "nbformat": 4,
  "nbformat_minor": 5,
  "metadata": {
    "kernelspec": {
      "display_name": "Python 3",
      "language": "python",
      "name": "python3"
    },
    "language_info": {
      "codemirror_mode": {
        "name": "ipython",
        "version": 3
      },
      "file_extension": ".py",
      "mimetype": "text/x-python",
      "name": "python",
      "nbconvert_exporter": "python",
      "pygments_lexer": "ipython3",
      "version": "3.8.10"
    },
    "colab": {
      "name": "main.ipynb",
      "provenance": []
    },
    "accelerator": "GPU"
  },
  "cells": [
    {
      "cell_type": "code",
      "metadata": {
        "id": "rEIBB2qOr6jZ",
        "outputId": "9d6a7a96-8410-4757-e977-ddb2b165b388",
        "colab": {
          "base_uri": "https://localhost:8080/"
        }
      },
      "source": [
        "%ls"
      ],
      "id": "rEIBB2qOr6jZ",
      "execution_count": 102,
      "outputs": [
        {
          "output_type": "stream",
          "text": [
            "\u001b[0m\u001b[01;34msample_data\u001b[0m/\n"
          ],
          "name": "stdout"
        }
      ]
    },
    {
      "cell_type": "code",
      "metadata": {
        "id": "4eb4b5e8-d993-4205-a9d7-8c80b32069e7"
      },
      "source": [
        "import os\n",
        "import zipfile\n",
        "import random\n",
        "import tensorflow as tf\n",
        "import shutil\n",
        "from tensorflow.keras.optimizers import RMSprop\n",
        "from tensorflow.keras.preprocessing.image import ImageDataGenerator\n",
        "from shutil import copyfile\n"
      ],
      "id": "4eb4b5e8-d993-4205-a9d7-8c80b32069e7",
      "execution_count": 63,
      "outputs": []
    },
    {
      "cell_type": "code",
      "metadata": {
        "id": "U_kRf2THs9Fb"
      },
      "source": [
        "# Local path variables\n",
        "# from datapath import data_path, zip_path\n",
        "\n",
        "# Colab path variables\n",
        "zip_path = \"sample_data/dogs-vs-cats.zip\"\n",
        "data_path = \"sample_data\""
      ],
      "id": "U_kRf2THs9Fb",
      "execution_count": 66,
      "outputs": []
    },
    {
      "cell_type": "code",
      "metadata": {
        "id": "ir8mCyNkrXKL"
      },
      "source": [
        "zip_train_path = os.path.join(data_path,\"train.zip\")\n",
        "zip_test_path = os.path.join(data_path,\"test1.zip\")\n"
      ],
      "id": "ir8mCyNkrXKL",
      "execution_count": 67,
      "outputs": []
    },
    {
      "cell_type": "code",
      "metadata": {
        "id": "4143dbe4-0a5a-4c35-aa58-b4ef8e37016e"
      },
      "source": [
        "# Extract the image directories from the zip files\n",
        "zip_outer = zipfile.ZipFile(zip_path,'r')\n",
        "zip_outer.extractall(data_path)\n",
        "zip_outer.close()\n",
        "\n",
        "zip_train = zipfile.ZipFile(zip_train_path)\n",
        "zip_train.extractall(data_path)\n",
        "zip_train.close()\n",
        "\n",
        "zip_test = zipfile.ZipFile(zip_test_path)\n",
        "zip_test.extractall(data_path)\n",
        "zip_test.close()\n",
        "\n",
        "del zip_outer, zip_train, zip_test\n",
        "\n",
        "# delete zip files to reclaim space\n",
        "os.remove(f\"{data_path}/train.zip\")\n",
        "os.remove(f\"{data_path}/test1.zip\")\n",
        "# os.remove(zip_path)"
      ],
      "id": "4143dbe4-0a5a-4c35-aa58-b4ef8e37016e",
      "execution_count": 68,
      "outputs": []
    },
    {
      "cell_type": "code",
      "metadata": {
        "id": "802eedf4-e58b-4b0c-bbd1-94cbf8fbc84c"
      },
      "source": [
        "def move_image(source,destination,image_name):\n",
        "     shutil.move(os.path.join(source,image_name),\n",
        "                 os.path.join(destination,image_name),\n",
        "                 copy_function=copyfile)\n",
        "    "
      ],
      "id": "802eedf4-e58b-4b0c-bbd1-94cbf8fbc84c",
      "execution_count": 69,
      "outputs": []
    },
    {
      "cell_type": "code",
      "metadata": {
        "id": "2fc795f6-3b23-45c4-a67c-4283930c56a2"
      },
      "source": [
        "def sort_images(source_path,cat_path,dog_path,index_limit):\n",
        "    for index,fname in enumerate(os.listdir(source_path)):\n",
        "        if index < index_limit:\n",
        "            move_image(source_path,cat_path,fname)\n",
        "        else:\n",
        "            move_image(source_path,dog_path,fname)\n",
        "    \n",
        "    shutil.rmtree(source_path)"
      ],
      "id": "2fc795f6-3b23-45c4-a67c-4283930c56a2",
      "execution_count": 70,
      "outputs": []
    },
    {
      "cell_type": "code",
      "metadata": {
        "id": "be713107-87df-4ba5-9aa3-00b451e7b73f"
      },
      "source": [
        "# filter files into the correct directories, and split portion of random files from the training data into a validation set\n",
        "\n",
        "def filter_images(source, training, testing, split_size):\n",
        "    \n",
        "    dir_source = os.listdir(source)\n",
        "    \n",
        "    def choose_random(source, split_size):\n",
        "        source_range = range(0, int(len(dir_source)))\n",
        "        training_size = int(split_size * len(dir_source))\n",
        "        training_index = random.sample(source_range,k=training_size)\n",
        "        \n",
        "        return training_index\n",
        "    \n",
        "    def copy_images(source,training,testing,random_index):\n",
        "        for index,fname in enumerate(os.listdir(source)):\n",
        "            if index in random_index:\n",
        "                move_image(source,training,fname)\n",
        "            else:\n",
        "                move_image(source,testing,fname)\n",
        "    \n",
        "    random_index = choose_random(source,split_size)\n",
        "    copy_images(source, training, testing, random_index)\n",
        "    \n",
        "    shutil.rmtree(source)\n",
        "    "
      ],
      "id": "be713107-87df-4ba5-9aa3-00b451e7b73f",
      "execution_count": 71,
      "outputs": []
    },
    {
      "cell_type": "code",
      "metadata": {
        "id": "99fabfd0-613e-4eea-941b-22814bb62d7d"
      },
      "source": [
        "# initialize variables for training and validation directory paths\n",
        "dir_toplevel = os.path.join(data_path,\"dogs-vs-cats\")\n",
        "dir_training = os.path.join(dir_toplevel,'training')\n",
        "dir_training_cats = os.path.join(dir_training,'cats')\n",
        "dir_training_dogs = os.path.join(dir_training,'dogs')\n",
        "\n",
        "dir_validation = os.path.join(dir_toplevel,'validation')\n",
        "dir_validation_cats = os.path.join(dir_validation, 'cats')\n",
        "dir_validation_dogs = os.path.join(dir_validation, 'dogs')\n",
        "\n",
        "dir_test = os.path.join(dir_toplevel,\"test\")\n",
        "\n",
        "# create directories for training and validation\n",
        "tmp_train = os.path.join(data_path,\"train\")\n",
        "tmp_cats = os.path.join(data_path,\"cats\")\n",
        "tmp_dogs = os.path.join(data_path,\"dogs\")\n",
        "tmp_test = os.path.join(data_path,\"test1\")"
      ],
      "id": "99fabfd0-613e-4eea-941b-22814bb62d7d",
      "execution_count": 72,
      "outputs": []
    },
    {
      "cell_type": "code",
      "metadata": {
        "id": "RKmHTFlgkGxw",
        "outputId": "cfef1bed-d491-4e79-c08e-00ffd7c8ac38",
        "colab": {
          "base_uri": "https://localhost:8080/",
          "height": 35
        }
      },
      "source": [
        "dir_training"
      ],
      "id": "RKmHTFlgkGxw",
      "execution_count": 73,
      "outputs": [
        {
          "output_type": "execute_result",
          "data": {
            "application/vnd.google.colaboratory.intrinsic+json": {
              "type": "string"
            },
            "text/plain": [
              "'sample_data/dogs-vs-cats/training'"
            ]
          },
          "metadata": {
            "tags": []
          },
          "execution_count": 73
        }
      ]
    },
    {
      "cell_type": "code",
      "metadata": {
        "id": "3038acf0-d9f5-47bb-8e3f-cf8086ce06ff"
      },
      "source": [
        "# Create directories to hold filtered training and vaidation sets\n",
        "os.mkdir(dir_toplevel)\n",
        "os.mkdir(dir_training)\n",
        "os.mkdir(dir_training_cats)\n",
        "os.mkdir(dir_training_dogs)\n",
        "os.mkdir(dir_validation)\n",
        "os.mkdir(dir_validation_cats)\n",
        "os.mkdir(dir_validation_dogs)\n",
        "os.mkdir(tmp_cats)\n",
        "os.mkdir(tmp_dogs)\n",
        "os.mkdir(dir_test)"
      ],
      "id": "3038acf0-d9f5-47bb-8e3f-cf8086ce06ff",
      "execution_count": 74,
      "outputs": []
    },
    {
      "cell_type": "code",
      "metadata": {
        "id": "461fbc14-c05c-4812-bfe3-8b131ddbfca3"
      },
      "source": [
        "# sort labeled cat and dog images into separate folders, and move test data to new location\n",
        "sort_images(tmp_train,tmp_cats,tmp_dogs,12500)\n",
        "sort_images(tmp_test,dir_test,dir_test,12500)\n",
        "move_image(data_path,dir_toplevel,\"sampleSubmission.csv\")\n",
        "\n",
        "# randomly sample the images, and create separate training an validation sets\n",
        "# percent of the images to be used for training is set by the split_size\n",
        "split_size = 0.9\n",
        "\n",
        "filter_images(tmp_cats,dir_training_cats,dir_validation_cats,split_size)\n",
        "filter_images(tmp_dogs,dir_training_dogs,dir_validation_dogs,split_size)\n",
        "\n",
        "#remove empty directory tree\n",
        "#shutil.rmtree(data_path)"
      ],
      "id": "461fbc14-c05c-4812-bfe3-8b131ddbfca3",
      "execution_count": 75,
      "outputs": []
    },
    {
      "cell_type": "code",
      "metadata": {
        "id": "0130a110-9122-460e-9604-6a52d00d1077",
        "outputId": "90eabc1a-8be2-4a90-fcb3-91d9239b37e3",
        "colab": {
          "base_uri": "https://localhost:8080/"
        }
      },
      "source": [
        "len(os.listdir(dir_training_cats))"
      ],
      "id": "0130a110-9122-460e-9604-6a52d00d1077",
      "execution_count": 81,
      "outputs": [
        {
          "output_type": "execute_result",
          "data": {
            "text/plain": [
              "11250"
            ]
          },
          "metadata": {
            "tags": []
          },
          "execution_count": 81
        }
      ]
    },
    {
      "cell_type": "code",
      "metadata": {
        "id": "50f8f606-c0f3-45a2-9105-c16326376705"
      },
      "source": [
        "# Configure tensorflow to generate training data from image directory, and normalize the image data\n",
        "train_datagen = ImageDataGenerator(rescale=1.0/255)\n",
        "train_generator = train_datagen.flow_from_directory(dir_training,\n",
        "                                                   batch_size = 20,\n",
        "                                                   class_mode='binary',\n",
        "                                                   target_size=(150,150))\n",
        "\n",
        "# Configure tensorflow to generate validation data from image directory, and normalize the image data\n",
        "validation_datagen = ImageDataGenerator(rescale=1.0/255) \n",
        "validation_generator = validation_datagen.flow_from_directory(dir_validation,\n",
        "                                                             batch_size = 20,\n",
        "                                                             class_mode='binary',\n",
        "                                                             target_size=(150,150))"
      ],
      "id": "50f8f606-c0f3-45a2-9105-c16326376705",
      "execution_count": 100,
      "outputs": []
    },
    {
      "cell_type": "code",
      "metadata": {
        "id": "7b77fd88-11a9-4c8f-b67c-bfbd945f4acc"
      },
      "source": [
        "#Keras model for image classification\n",
        "model = tf.keras.models.Sequential([\n",
        "    # Alternating convolution and pooling layers to process the images before analysis\n",
        "    # The convulation layers accent features from the images,\n",
        "    # The pooling layers reduce the amount of information to process\n",
        "    tf.keras.layers.Conv2D(32,(3,3), activation='relu', input_shape=(150,150,3)),\n",
        "    tf.keras.layers.MaxPooling2D(2,2),\n",
        "    tf.keras.layers.Conv2D(64,(3,3), activation='relu'),\n",
        "    tf.keras.layers.MaxPooling2D(2,2),\n",
        "    tf.keras.layers.Conv2D(128,(3,3), activation='relu'),\n",
        "    tf.keras.layers.MaxPooling2D(2,2),\n",
        "    tf.keras.layers.Conv2D(128,(3,3), activation='relu'),\n",
        "    tf.keras.layers.MaxPooling2D(2,2),\n",
        "    # Flatten the images for analysis by the nn\n",
        "    tf.keras.layers.Flatten(),\n",
        "    # Neural network for image classification 256 neuron hidden layer, with a 1 nueron output layer\n",
        "    tf.keras.layers.Dense(512, activation='relu'),\n",
        "    tf.keras.layers.Dense(1, activation ='sigmoid')\n",
        "])\n",
        "\n",
        "model.compile(optimizer=RMSprop(learning_rate=0.0001),\n",
        "              loss='binary_crossentropy',\n",
        "              metrics=['acc'])"
      ],
      "id": "7b77fd88-11a9-4c8f-b67c-bfbd945f4acc",
      "execution_count": 103,
      "outputs": []
    },
    {
      "cell_type": "code",
      "metadata": {
        "id": "4e2cd3bb-ebbd-4f6e-a098-dcd9bb5704c8",
        "outputId": "de6c021a-6e0f-4df5-9aef-528af10b5b03",
        "colab": {
          "base_uri": "https://localhost:8080/",
          "height": 622
        }
      },
      "source": [
        "history = model.fit(train_generator,\n",
        "                      epochs=10,\n",
        "                      steps_per_epoch=1125,\n",
        "                      validation_steps=125,\n",
        "                      verbose=2,\n",
        "                      validation_data=validation_generator)"
      ],
      "id": "4e2cd3bb-ebbd-4f6e-a098-dcd9bb5704c8",
      "execution_count": 104,
      "outputs": [
        {
          "output_type": "stream",
          "text": [
            "Epoch 1/10\n",
            "1125/1125 - 192s - loss: 0.6938 - acc: 0.5017 - val_loss: 0.6961 - val_acc: 0.5000\n",
            "Epoch 2/10\n",
            "1125/1125 - 192s - loss: 0.6934 - acc: 0.5017 - val_loss: 0.6932 - val_acc: 0.5000\n",
            "Epoch 3/10\n",
            "1125/1125 - 194s - loss: 0.6934 - acc: 0.4982 - val_loss: 0.6932 - val_acc: 0.5008\n",
            "Epoch 4/10\n",
            "1125/1125 - 192s - loss: 0.6933 - acc: 0.4979 - val_loss: 0.6932 - val_acc: 0.5004\n",
            "Epoch 5/10\n",
            "1125/1125 - 192s - loss: 0.6934 - acc: 0.5014 - val_loss: 0.6932 - val_acc: 0.4960\n",
            "Epoch 6/10\n",
            "1125/1125 - 192s - loss: 0.6933 - acc: 0.5004 - val_loss: 0.6933 - val_acc: 0.5012\n",
            "Epoch 7/10\n",
            "1125/1125 - 192s - loss: 0.6933 - acc: 0.4958 - val_loss: 0.6932 - val_acc: 0.5008\n",
            "Epoch 8/10\n",
            "1125/1125 - 190s - loss: 0.6933 - acc: 0.4965 - val_loss: 0.6938 - val_acc: 0.4880\n",
            "Epoch 9/10\n"
          ],
          "name": "stdout"
        },
        {
          "output_type": "error",
          "ename": "KeyboardInterrupt",
          "evalue": "ignored",
          "traceback": [
            "\u001b[0;31m---------------------------------------------------------------------------\u001b[0m",
            "\u001b[0;31mKeyboardInterrupt\u001b[0m                         Traceback (most recent call last)",
            "\u001b[0;32m<ipython-input-104-be7b4d48e6cb>\u001b[0m in \u001b[0;36m<module>\u001b[0;34m()\u001b[0m\n\u001b[1;32m      4\u001b[0m                       \u001b[0mvalidation_steps\u001b[0m\u001b[0;34m=\u001b[0m\u001b[0;36m125\u001b[0m\u001b[0;34m,\u001b[0m\u001b[0;34m\u001b[0m\u001b[0;34m\u001b[0m\u001b[0m\n\u001b[1;32m      5\u001b[0m                       \u001b[0mverbose\u001b[0m\u001b[0;34m=\u001b[0m\u001b[0;36m2\u001b[0m\u001b[0;34m,\u001b[0m\u001b[0;34m\u001b[0m\u001b[0;34m\u001b[0m\u001b[0m\n\u001b[0;32m----> 6\u001b[0;31m                       validation_data=validation_generator)\n\u001b[0m",
            "\u001b[0;32m/usr/local/lib/python3.7/dist-packages/tensorflow/python/keras/engine/training.py\u001b[0m in \u001b[0;36mfit\u001b[0;34m(self, x, y, batch_size, epochs, verbose, callbacks, validation_split, validation_data, shuffle, class_weight, sample_weight, initial_epoch, steps_per_epoch, validation_steps, validation_batch_size, validation_freq, max_queue_size, workers, use_multiprocessing)\u001b[0m\n\u001b[1;32m   1181\u001b[0m                 _r=1):\n\u001b[1;32m   1182\u001b[0m               \u001b[0mcallbacks\u001b[0m\u001b[0;34m.\u001b[0m\u001b[0mon_train_batch_begin\u001b[0m\u001b[0;34m(\u001b[0m\u001b[0mstep\u001b[0m\u001b[0;34m)\u001b[0m\u001b[0;34m\u001b[0m\u001b[0;34m\u001b[0m\u001b[0m\n\u001b[0;32m-> 1183\u001b[0;31m               \u001b[0mtmp_logs\u001b[0m \u001b[0;34m=\u001b[0m \u001b[0mself\u001b[0m\u001b[0;34m.\u001b[0m\u001b[0mtrain_function\u001b[0m\u001b[0;34m(\u001b[0m\u001b[0miterator\u001b[0m\u001b[0;34m)\u001b[0m\u001b[0;34m\u001b[0m\u001b[0;34m\u001b[0m\u001b[0m\n\u001b[0m\u001b[1;32m   1184\u001b[0m               \u001b[0;32mif\u001b[0m \u001b[0mdata_handler\u001b[0m\u001b[0;34m.\u001b[0m\u001b[0mshould_sync\u001b[0m\u001b[0;34m:\u001b[0m\u001b[0;34m\u001b[0m\u001b[0;34m\u001b[0m\u001b[0m\n\u001b[1;32m   1185\u001b[0m                 \u001b[0mcontext\u001b[0m\u001b[0;34m.\u001b[0m\u001b[0masync_wait\u001b[0m\u001b[0;34m(\u001b[0m\u001b[0;34m)\u001b[0m\u001b[0;34m\u001b[0m\u001b[0;34m\u001b[0m\u001b[0m\n",
            "\u001b[0;32m/usr/local/lib/python3.7/dist-packages/tensorflow/python/eager/def_function.py\u001b[0m in \u001b[0;36m__call__\u001b[0;34m(self, *args, **kwds)\u001b[0m\n\u001b[1;32m    887\u001b[0m \u001b[0;34m\u001b[0m\u001b[0m\n\u001b[1;32m    888\u001b[0m       \u001b[0;32mwith\u001b[0m \u001b[0mOptionalXlaContext\u001b[0m\u001b[0;34m(\u001b[0m\u001b[0mself\u001b[0m\u001b[0;34m.\u001b[0m\u001b[0m_jit_compile\u001b[0m\u001b[0;34m)\u001b[0m\u001b[0;34m:\u001b[0m\u001b[0;34m\u001b[0m\u001b[0;34m\u001b[0m\u001b[0m\n\u001b[0;32m--> 889\u001b[0;31m         \u001b[0mresult\u001b[0m \u001b[0;34m=\u001b[0m \u001b[0mself\u001b[0m\u001b[0;34m.\u001b[0m\u001b[0m_call\u001b[0m\u001b[0;34m(\u001b[0m\u001b[0;34m*\u001b[0m\u001b[0margs\u001b[0m\u001b[0;34m,\u001b[0m \u001b[0;34m**\u001b[0m\u001b[0mkwds\u001b[0m\u001b[0;34m)\u001b[0m\u001b[0;34m\u001b[0m\u001b[0;34m\u001b[0m\u001b[0m\n\u001b[0m\u001b[1;32m    890\u001b[0m \u001b[0;34m\u001b[0m\u001b[0m\n\u001b[1;32m    891\u001b[0m       \u001b[0mnew_tracing_count\u001b[0m \u001b[0;34m=\u001b[0m \u001b[0mself\u001b[0m\u001b[0;34m.\u001b[0m\u001b[0mexperimental_get_tracing_count\u001b[0m\u001b[0;34m(\u001b[0m\u001b[0;34m)\u001b[0m\u001b[0;34m\u001b[0m\u001b[0;34m\u001b[0m\u001b[0m\n",
            "\u001b[0;32m/usr/local/lib/python3.7/dist-packages/tensorflow/python/eager/def_function.py\u001b[0m in \u001b[0;36m_call\u001b[0;34m(self, *args, **kwds)\u001b[0m\n\u001b[1;32m    915\u001b[0m       \u001b[0;31m# In this case we have created variables on the first call, so we run the\u001b[0m\u001b[0;34m\u001b[0m\u001b[0;34m\u001b[0m\u001b[0;34m\u001b[0m\u001b[0m\n\u001b[1;32m    916\u001b[0m       \u001b[0;31m# defunned version which is guaranteed to never create variables.\u001b[0m\u001b[0;34m\u001b[0m\u001b[0;34m\u001b[0m\u001b[0;34m\u001b[0m\u001b[0m\n\u001b[0;32m--> 917\u001b[0;31m       \u001b[0;32mreturn\u001b[0m \u001b[0mself\u001b[0m\u001b[0;34m.\u001b[0m\u001b[0m_stateless_fn\u001b[0m\u001b[0;34m(\u001b[0m\u001b[0;34m*\u001b[0m\u001b[0margs\u001b[0m\u001b[0;34m,\u001b[0m \u001b[0;34m**\u001b[0m\u001b[0mkwds\u001b[0m\u001b[0;34m)\u001b[0m  \u001b[0;31m# pylint: disable=not-callable\u001b[0m\u001b[0;34m\u001b[0m\u001b[0;34m\u001b[0m\u001b[0m\n\u001b[0m\u001b[1;32m    918\u001b[0m     \u001b[0;32melif\u001b[0m \u001b[0mself\u001b[0m\u001b[0;34m.\u001b[0m\u001b[0m_stateful_fn\u001b[0m \u001b[0;32mis\u001b[0m \u001b[0;32mnot\u001b[0m \u001b[0;32mNone\u001b[0m\u001b[0;34m:\u001b[0m\u001b[0;34m\u001b[0m\u001b[0;34m\u001b[0m\u001b[0m\n\u001b[1;32m    919\u001b[0m       \u001b[0;31m# Release the lock early so that multiple threads can perform the call\u001b[0m\u001b[0;34m\u001b[0m\u001b[0;34m\u001b[0m\u001b[0;34m\u001b[0m\u001b[0m\n",
            "\u001b[0;32m/usr/local/lib/python3.7/dist-packages/tensorflow/python/eager/function.py\u001b[0m in \u001b[0;36m__call__\u001b[0;34m(self, *args, **kwargs)\u001b[0m\n\u001b[1;32m   3022\u001b[0m        filtered_flat_args) = self._maybe_define_function(args, kwargs)\n\u001b[1;32m   3023\u001b[0m     return graph_function._call_flat(\n\u001b[0;32m-> 3024\u001b[0;31m         filtered_flat_args, captured_inputs=graph_function.captured_inputs)  # pylint: disable=protected-access\n\u001b[0m\u001b[1;32m   3025\u001b[0m \u001b[0;34m\u001b[0m\u001b[0m\n\u001b[1;32m   3026\u001b[0m   \u001b[0;34m@\u001b[0m\u001b[0mproperty\u001b[0m\u001b[0;34m\u001b[0m\u001b[0;34m\u001b[0m\u001b[0m\n",
            "\u001b[0;32m/usr/local/lib/python3.7/dist-packages/tensorflow/python/eager/function.py\u001b[0m in \u001b[0;36m_call_flat\u001b[0;34m(self, args, captured_inputs, cancellation_manager)\u001b[0m\n\u001b[1;32m   1959\u001b[0m       \u001b[0;31m# No tape is watching; skip to running the function.\u001b[0m\u001b[0;34m\u001b[0m\u001b[0;34m\u001b[0m\u001b[0;34m\u001b[0m\u001b[0m\n\u001b[1;32m   1960\u001b[0m       return self._build_call_outputs(self._inference_function.call(\n\u001b[0;32m-> 1961\u001b[0;31m           ctx, args, cancellation_manager=cancellation_manager))\n\u001b[0m\u001b[1;32m   1962\u001b[0m     forward_backward = self._select_forward_and_backward_functions(\n\u001b[1;32m   1963\u001b[0m         \u001b[0margs\u001b[0m\u001b[0;34m,\u001b[0m\u001b[0;34m\u001b[0m\u001b[0;34m\u001b[0m\u001b[0m\n",
            "\u001b[0;32m/usr/local/lib/python3.7/dist-packages/tensorflow/python/eager/function.py\u001b[0m in \u001b[0;36mcall\u001b[0;34m(self, ctx, args, cancellation_manager)\u001b[0m\n\u001b[1;32m    594\u001b[0m               \u001b[0minputs\u001b[0m\u001b[0;34m=\u001b[0m\u001b[0margs\u001b[0m\u001b[0;34m,\u001b[0m\u001b[0;34m\u001b[0m\u001b[0;34m\u001b[0m\u001b[0m\n\u001b[1;32m    595\u001b[0m               \u001b[0mattrs\u001b[0m\u001b[0;34m=\u001b[0m\u001b[0mattrs\u001b[0m\u001b[0;34m,\u001b[0m\u001b[0;34m\u001b[0m\u001b[0;34m\u001b[0m\u001b[0m\n\u001b[0;32m--> 596\u001b[0;31m               ctx=ctx)\n\u001b[0m\u001b[1;32m    597\u001b[0m         \u001b[0;32melse\u001b[0m\u001b[0;34m:\u001b[0m\u001b[0;34m\u001b[0m\u001b[0;34m\u001b[0m\u001b[0m\n\u001b[1;32m    598\u001b[0m           outputs = execute.execute_with_cancellation(\n",
            "\u001b[0;32m/usr/local/lib/python3.7/dist-packages/tensorflow/python/eager/execute.py\u001b[0m in \u001b[0;36mquick_execute\u001b[0;34m(op_name, num_outputs, inputs, attrs, ctx, name)\u001b[0m\n\u001b[1;32m     58\u001b[0m     \u001b[0mctx\u001b[0m\u001b[0;34m.\u001b[0m\u001b[0mensure_initialized\u001b[0m\u001b[0;34m(\u001b[0m\u001b[0;34m)\u001b[0m\u001b[0;34m\u001b[0m\u001b[0;34m\u001b[0m\u001b[0m\n\u001b[1;32m     59\u001b[0m     tensors = pywrap_tfe.TFE_Py_Execute(ctx._handle, device_name, op_name,\n\u001b[0;32m---> 60\u001b[0;31m                                         inputs, attrs, num_outputs)\n\u001b[0m\u001b[1;32m     61\u001b[0m   \u001b[0;32mexcept\u001b[0m \u001b[0mcore\u001b[0m\u001b[0;34m.\u001b[0m\u001b[0m_NotOkStatusException\u001b[0m \u001b[0;32mas\u001b[0m \u001b[0me\u001b[0m\u001b[0;34m:\u001b[0m\u001b[0;34m\u001b[0m\u001b[0;34m\u001b[0m\u001b[0m\n\u001b[1;32m     62\u001b[0m     \u001b[0;32mif\u001b[0m \u001b[0mname\u001b[0m \u001b[0;32mis\u001b[0m \u001b[0;32mnot\u001b[0m \u001b[0;32mNone\u001b[0m\u001b[0;34m:\u001b[0m\u001b[0;34m\u001b[0m\u001b[0;34m\u001b[0m\u001b[0m\n",
            "\u001b[0;31mKeyboardInterrupt\u001b[0m: "
          ]
        }
      ]
    },
    {
      "cell_type": "code",
      "metadata": {
        "id": "fe11c712-e844-4bd6-8d70-62a71efcd34e",
        "outputId": "ea51d5bc-950d-4f5c-acd2-ec4809acd8fa",
        "colab": {
          "base_uri": "https://localhost:8080/",
          "height": 545
        }
      },
      "source": [
        "import matplotlib.pyplot as plt\n",
        "\n",
        "acc = history.history['acc']\n",
        "val_acc = history.history['val_acc']\n",
        "loss = history.history['loss']\n",
        "val_loss = history.history['val_loss']\n",
        "\n",
        "epochs = range(len(acc))\n",
        "\n",
        "plt.plot(epochs, acc, 'bo', label='Training accuracy')\n",
        "plt.plot(epochs, val_acc, 'b', label='Validation accuracy')\n",
        "plt.title('Training and validation accuracy')\n",
        "plt.legend()\n",
        "\n",
        "plt.figure()\n",
        "\n",
        "plt.plot(epochs, loss, 'bo', label='Training Loss')\n",
        "plt.plot(epochs, val_loss, 'b', label='Validation Loss')\n",
        "plt.title('Training and validation loss')\n",
        "plt.legend()\n",
        "\n",
        "plt.show()"
      ],
      "id": "fe11c712-e844-4bd6-8d70-62a71efcd34e",
      "execution_count": 105,
      "outputs": [
        {
          "output_type": "display_data",
          "data": {
            "image/png": "[encoded data removed]",
            "text/plain": [
              "<Figure size 432x288 with 1 Axes>"
            ]
          },
          "metadata": {
            "tags": [],
            "needs_background": "light"
          }
        },
        {
          "output_type": "display_data",
          "data": {
            "image/png": "[encoded data removed]",
            "text/plain": [
              "<Figure size 432x288 with 1 Axes>"
            ]
          },
          "metadata": {
            "tags": [],
            "needs_background": "light"
          }
        }
      ]
    },
    {
      "cell_type": "code",
      "metadata": {
        "id": "ItCFwDrW6A1E",
        "outputId": "4c4d05f5-06a2-4c0d-8d29-30940011e487",
        "colab": {
          "base_uri": "https://localhost:8080/"
        }
      },
      "source": [
        "print(history.history.keys())"
      ],
      "id": "ItCFwDrW6A1E",
      "execution_count": 28,
      "outputs": [
        {
          "output_type": "stream",
          "text": [
            "dict_keys(['loss', 'acc', 'val_loss', 'val_acc'])\n"
          ],
          "name": "stdout"
        }
      ]
    },
    {
      "cell_type": "code",
      "metadata": {
        "id": "1333eb7a-007c-4e94-92a8-1a3ef19f79c3"
      },
      "source": [
        ""
      ],
      "id": "1333eb7a-007c-4e94-92a8-1a3ef19f79c3",
      "execution_count": null,
      "outputs": []
    }
  ]
}