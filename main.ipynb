{
  "nbformat": 4,
  "nbformat_minor": 5,
  "metadata": {
    "kernelspec": {
      "display_name": "Python 3",
      "language": "python",
      "name": "python3"
    },
    "language_info": {
      "codemirror_mode": {
        "name": "ipython",
        "version": 3
      },
      "file_extension": ".py",
      "mimetype": "text/x-python",
      "name": "python",
      "nbconvert_exporter": "python",
      "pygments_lexer": "ipython3",
      "version": "3.8.10"
    },
    "colab": {
      "name": "main.ipynb",
      "provenance": []
    }
  },
  "cells": [
    {
      "cell_type": "code",
      "metadata": {
        "id": "5FxvLVoleKAR",
        "colab": {
          "base_uri": "https://localhost:8080/"
        },
        "outputId": "00d6c08e-3f2f-48d1-df83-b77bacc7145f"
      },
      "source": [
        "from google.colab import drive\n",
        "drive.mount(\"/content/drive\")"
      ],
      "id": "5FxvLVoleKAR",
      "execution_count": 1,
      "outputs": [
        {
          "output_type": "stream",
          "text": [
            "Mounted at /content/drive\n"
          ],
          "name": "stdout"
        }
      ]
    },
    {
      "cell_type": "code",
      "metadata": {
        "colab": {
          "base_uri": "https://localhost:8080/"
        },
        "id": "CdLlVWyDjjfw",
        "outputId": "25641b34-2b5d-4ad1-90f2-9f146682a9a2"
      },
      "source": [
        "%cd \"drive/MyDrive/Colab Notebooks/Image-Classification-Tensorflow\"\n"
      ],
      "id": "CdLlVWyDjjfw",
      "execution_count": 2,
      "outputs": [
        {
          "output_type": "stream",
          "text": [
            "/content/drive/MyDrive/Colab Notebooks/Image-Classification-Tensorflow\n"
          ],
          "name": "stdout"
        }
      ]
    },
    {
      "cell_type": "code",
      "metadata": {
        "colab": {
          "base_uri": "https://localhost:8080/"
        },
        "id": "7-3PvJcni268",
        "outputId": "74792ce5-3eaa-45f4-c61b-36b07b25e5c8"
      },
      "source": [
        "%ls\n"
      ],
      "id": "7-3PvJcni268",
      "execution_count": 3,
      "outputs": [
        {
          "output_type": "stream",
          "text": [
            "\u001b[0m\u001b[01;34mData\u001b[0m/  datapath.py  main.ipynb  \u001b[01;34m__pycache__\u001b[0m/  README.md\n"
          ],
          "name": "stdout"
        }
      ]
    },
    {
      "cell_type": "code",
      "metadata": {
        "id": "4eb4b5e8-d993-4205-a9d7-8c80b32069e7"
      },
      "source": [
        "import os\n",
        "import zipfile\n",
        "import random\n",
        "import tensorflow as tf\n",
        "import shutil\n",
        "from tensorflow.keras.optimizers import RMSprop\n",
        "from tensorflow.keras.preprocessing.image import ImageDataGenerator\n",
        "from shutil import copyfile\n",
        "from datapath import data_path, zip_path"
      ],
      "id": "4eb4b5e8-d993-4205-a9d7-8c80b32069e7",
      "execution_count": 11,
      "outputs": []
    },
    {
      "cell_type": "code",
      "metadata": {
        "colab": {
          "base_uri": "https://localhost:8080/",
          "height": 183
        },
        "id": "ir8mCyNkrXKL",
        "outputId": "ad7ba4b5-675b-48eb-be5c-49d35e6355ef"
      },
      "source": [
        "zip_train_path = os.path.join(data_path,\"train.zip\")\n",
        "zip_test_path = os.path.join(data_path,\"test1.zip\")\n"
      ],
      "id": "ir8mCyNkrXKL",
      "execution_count": 10,
      "outputs": [
        {
          "output_type": "error",
          "ename": "AttributeError",
          "evalue": "ignored",
          "traceback": [
            "\u001b[0;31m---------------------------------------------------------------------------\u001b[0m",
            "\u001b[0;31mAttributeError\u001b[0m                            Traceback (most recent call last)",
            "\u001b[0;32m<ipython-input-10-d14f8056f81f>\u001b[0m in \u001b[0;36m<module>\u001b[0;34m()\u001b[0m\n\u001b[0;32m----> 1\u001b[0;31m \u001b[0mzip_train_path\u001b[0m \u001b[0;34m=\u001b[0m \u001b[0mos\u001b[0m\u001b[0;34m.\u001b[0m\u001b[0mjoin\u001b[0m\u001b[0;34m(\u001b[0m\u001b[0mdata_path\u001b[0m\u001b[0;34m,\u001b[0m\u001b[0;34m\"train.zip\"\u001b[0m\u001b[0;34m)\u001b[0m\u001b[0;34m\u001b[0m\u001b[0;34m\u001b[0m\u001b[0m\n\u001b[0m\u001b[1;32m      2\u001b[0m \u001b[0mzip_test_path\u001b[0m \u001b[0;34m=\u001b[0m \u001b[0mos\u001b[0m\u001b[0;34m.\u001b[0m\u001b[0mjoin\u001b[0m\u001b[0;34m(\u001b[0m\u001b[0mdata_path\u001b[0m\u001b[0;34m,\u001b[0m\u001b[0;34m\"test1.zip\"\u001b[0m\u001b[0;34m)\u001b[0m\u001b[0;34m\u001b[0m\u001b[0;34m\u001b[0m\u001b[0m\n",
            "\u001b[0;31mAttributeError\u001b[0m: module 'os' has no attribute 'join'"
          ]
        }
      ]
    },
    {
      "cell_type": "code",
      "metadata": {
        "id": "4143dbe4-0a5a-4c35-aa58-b4ef8e37016e",
        "colab": {
          "base_uri": "https://localhost:8080/",
          "height": 357
        },
        "outputId": "8d34dc16-bdfa-42ca-df22-2d97a83b5233"
      },
      "source": [
        "# Extract the image directories from the zip files\n",
        "zip_outer = zipfile.ZipFile(zip_path,'r')\n",
        "zip_outer.extractall(data_path)\n",
        "zip_outer.close()\n",
        "\n",
        "zip_train = zipfile.ZipFile(zip_train_path)\n",
        "zip_train.extractall(data_path)\n",
        "zip_train.close()\n",
        "\n",
        "zip_test = zipfile.ZipFile(zip_test_path)\n",
        "zip_test.extractall(data_path)\n",
        "zip_test.close()\n",
        "\n",
        "del zip_outer, zip_train, zip_test\n",
        "\n",
        "# delete zip files to reclaim space\n",
        "os.remove(f\"{data_path}train.zip\")\n",
        "os.remove(f\"{data_path}test1.zip\")\n",
        "os.remove(zip_path)"
      ],
      "id": "4143dbe4-0a5a-4c35-aa58-b4ef8e37016e",
      "execution_count": 9,
      "outputs": [
        {
          "output_type": "error",
          "ename": "FileNotFoundError",
          "evalue": "ignored",
          "traceback": [
            "\u001b[0;31m---------------------------------------------------------------------------\u001b[0m",
            "\u001b[0;31mFileNotFoundError\u001b[0m                         Traceback (most recent call last)",
            "\u001b[0;32m<ipython-input-9-65b1d1f18cde>\u001b[0m in \u001b[0;36m<module>\u001b[0;34m()\u001b[0m\n\u001b[1;32m      4\u001b[0m \u001b[0mzip_outer\u001b[0m\u001b[0;34m.\u001b[0m\u001b[0mclose\u001b[0m\u001b[0;34m(\u001b[0m\u001b[0;34m)\u001b[0m\u001b[0;34m\u001b[0m\u001b[0;34m\u001b[0m\u001b[0m\n\u001b[1;32m      5\u001b[0m \u001b[0;34m\u001b[0m\u001b[0m\n\u001b[0;32m----> 6\u001b[0;31m \u001b[0mzip_train\u001b[0m \u001b[0;34m=\u001b[0m \u001b[0mzipfile\u001b[0m\u001b[0;34m.\u001b[0m\u001b[0mZipFile\u001b[0m\u001b[0;34m(\u001b[0m\u001b[0;34mf\"{data_path}\\\\train.zip\"\u001b[0m\u001b[0;34m)\u001b[0m\u001b[0;34m\u001b[0m\u001b[0;34m\u001b[0m\u001b[0m\n\u001b[0m\u001b[1;32m      7\u001b[0m \u001b[0mzip_train\u001b[0m\u001b[0;34m.\u001b[0m\u001b[0mextractall\u001b[0m\u001b[0;34m(\u001b[0m\u001b[0mdata_path\u001b[0m\u001b[0;34m)\u001b[0m\u001b[0;34m\u001b[0m\u001b[0;34m\u001b[0m\u001b[0m\n\u001b[1;32m      8\u001b[0m \u001b[0mzip_train\u001b[0m\u001b[0;34m.\u001b[0m\u001b[0mclose\u001b[0m\u001b[0;34m(\u001b[0m\u001b[0;34m)\u001b[0m\u001b[0;34m\u001b[0m\u001b[0;34m\u001b[0m\u001b[0m\n",
            "\u001b[0;32m/usr/lib/python3.7/zipfile.py\u001b[0m in \u001b[0;36m__init__\u001b[0;34m(self, file, mode, compression, allowZip64, compresslevel)\u001b[0m\n\u001b[1;32m   1238\u001b[0m             \u001b[0;32mwhile\u001b[0m \u001b[0;32mTrue\u001b[0m\u001b[0;34m:\u001b[0m\u001b[0;34m\u001b[0m\u001b[0;34m\u001b[0m\u001b[0m\n\u001b[1;32m   1239\u001b[0m                 \u001b[0;32mtry\u001b[0m\u001b[0;34m:\u001b[0m\u001b[0;34m\u001b[0m\u001b[0;34m\u001b[0m\u001b[0m\n\u001b[0;32m-> 1240\u001b[0;31m                     \u001b[0mself\u001b[0m\u001b[0;34m.\u001b[0m\u001b[0mfp\u001b[0m \u001b[0;34m=\u001b[0m \u001b[0mio\u001b[0m\u001b[0;34m.\u001b[0m\u001b[0mopen\u001b[0m\u001b[0;34m(\u001b[0m\u001b[0mfile\u001b[0m\u001b[0;34m,\u001b[0m \u001b[0mfilemode\u001b[0m\u001b[0;34m)\u001b[0m\u001b[0;34m\u001b[0m\u001b[0;34m\u001b[0m\u001b[0m\n\u001b[0m\u001b[1;32m   1241\u001b[0m                 \u001b[0;32mexcept\u001b[0m \u001b[0mOSError\u001b[0m\u001b[0;34m:\u001b[0m\u001b[0;34m\u001b[0m\u001b[0;34m\u001b[0m\u001b[0m\n\u001b[1;32m   1242\u001b[0m                     \u001b[0;32mif\u001b[0m \u001b[0mfilemode\u001b[0m \u001b[0;32min\u001b[0m \u001b[0mmodeDict\u001b[0m\u001b[0;34m:\u001b[0m\u001b[0;34m\u001b[0m\u001b[0;34m\u001b[0m\u001b[0m\n",
            "\u001b[0;31mFileNotFoundError\u001b[0m: [Errno 2] No such file or directory: 'Data/\\\\train.zip'"
          ]
        }
      ]
    },
    {
      "cell_type": "code",
      "metadata": {
        "id": "802eedf4-e58b-4b0c-bbd1-94cbf8fbc84c"
      },
      "source": [
        "def move_image(source,destination,image_name):\n",
        "     shutil.move(os.path.join(source,image_name),\n",
        "                 os.path.join(destination,image_name),\n",
        "                 copy_function=copyfile)\n",
        "    "
      ],
      "id": "802eedf4-e58b-4b0c-bbd1-94cbf8fbc84c",
      "execution_count": null,
      "outputs": []
    },
    {
      "cell_type": "code",
      "metadata": {
        "id": "2fc795f6-3b23-45c4-a67c-4283930c56a2"
      },
      "source": [
        "def sort_images(source_path,cat_path,dog_path,index_limit):\n",
        "    for index,fname in enumerate(os.listdir(source_path)):\n",
        "        if index < index_limit:\n",
        "            move_image(source_path,cat_path,fname)\n",
        "        else:\n",
        "            move_image(source_path,dog_path,fname)\n",
        "    \n",
        "    shutil.rmtree(source_path)"
      ],
      "id": "2fc795f6-3b23-45c4-a67c-4283930c56a2",
      "execution_count": null,
      "outputs": []
    },
    {
      "cell_type": "code",
      "metadata": {
        "id": "be713107-87df-4ba5-9aa3-00b451e7b73f"
      },
      "source": [
        "# filter files into the correct directories, and split portion of random files from the training data into a validation set\n",
        "\n",
        "def filter_images(source, training, testing, split_size):\n",
        "    \n",
        "    dir_source = os.listdir(source)\n",
        "    \n",
        "    def choose_random(source, split_size):\n",
        "        source_range = range(0, int(len(dir_source)))\n",
        "        training_size = int(split_size * len(dir_source))\n",
        "        training_index = random.sample(source_range,k=training_size)\n",
        "        \n",
        "        return training_index\n",
        "    \n",
        "    def copy_images(source,training,testing,random_index):\n",
        "        for index,fname in enumerate(os.listdir(source)):\n",
        "            if index in random_index:\n",
        "                move_image(source,training,fname)\n",
        "            else:\n",
        "                move_image(source,testing,fname)\n",
        "    \n",
        "    random_index = choose_random(source,split_size)\n",
        "    copy_images(source, training, testing, random_index)\n",
        "    \n",
        "    shutil.rmtree(source)\n",
        "    "
      ],
      "id": "be713107-87df-4ba5-9aa3-00b451e7b73f",
      "execution_count": null,
      "outputs": []
    },
    {
      "cell_type": "code",
      "metadata": {
        "id": "99fabfd0-613e-4eea-941b-22814bb62d7d"
      },
      "source": [
        "# initialize variables for training and validation directory paths\n",
        "dir_toplevel = os.path.join(data_path,\"dogs-vs-cats\")\n",
        "dir_training = os.path.join(dir_toplevel,'training')\n",
        "dir_training_cats = os.path.join(dir_training,'cats')\n",
        "dir_training_dogs = os.path.join(dir_training,'dogs')\n",
        "\n",
        "dir_validation = os.path.join(dir_toplevel,'validation')\n",
        "dir_validation_cats = os.path.join(dir_validation, 'cats')\n",
        "dir_validation_dogs = os.path.join(dir_validation, 'dogs')\n",
        "\n",
        "dir_test = os.path.join(dir_toplevel,\"test\")\n",
        "\n",
        "# create directories for training and validation\n",
        "tmp_train = os.path.join(data_path,\"train\")\n",
        "tmp_cats = os.path.join(data_path,\"cats\")\n",
        "tmp_dogs = os.path.join(data_path,\"dogs\")\n",
        "tmp_test = os.path.join(data_path,\"test1\")"
      ],
      "id": "99fabfd0-613e-4eea-941b-22814bb62d7d",
      "execution_count": null,
      "outputs": []
    },
    {
      "cell_type": "code",
      "metadata": {
        "id": "3038acf0-d9f5-47bb-8e3f-cf8086ce06ff"
      },
      "source": [
        "# Create directories to hold filtered training and vaidation sets\n",
        "os.mkdir(dir_toplevel)\n",
        "os.mkdir(dir_training)\n",
        "os.mkdir(dir_training_cats)\n",
        "os.mkdir(dir_training_dogs)\n",
        "os.mkdir(dir_validation)\n",
        "os.mkdir(dir_validation_cats)\n",
        "os.mkdir(dir_validation_dogs)\n",
        "os.mkdir(tmp_cats)\n",
        "os.mkdir(tmp_dogs)\n",
        "os.mkdir(dir_test)"
      ],
      "id": "3038acf0-d9f5-47bb-8e3f-cf8086ce06ff",
      "execution_count": null,
      "outputs": []
    },
    {
      "cell_type": "code",
      "metadata": {
        "id": "461fbc14-c05c-4812-bfe3-8b131ddbfca3"
      },
      "source": [
        "# sort labeled cat and dog images into separate folders, and move test data to new location\n",
        "sort_images(tmp_train,tmp_cats,tmp_dogs,12500)\n",
        "sort_images(tmp_test,dir_test,dir_test,12500)\n",
        "move_image(data_path,dir_toplevel,\"sampleSubmission.csv\")\n",
        "\n",
        "# randomly sample the images, and create separate training an validation sets\n",
        "# percent of the images to be used for training is set by the split_size\n",
        "split_size = 0.9\n",
        "\n",
        "filter_images(tmp_cats,dir_training_cats,dir_validation_cats,split_size)\n",
        "filter_images(tmp_dogs,dir_training_dogs,dir_validation_dogs,split_size)\n",
        "\n",
        "#remove empty directory tree\n",
        "shutil.rmtree(data_path)"
      ],
      "id": "461fbc14-c05c-4812-bfe3-8b131ddbfca3",
      "execution_count": null,
      "outputs": []
    },
    {
      "cell_type": "code",
      "metadata": {
        "id": "0130a110-9122-460e-9604-6a52d00d1077",
        "outputId": "8644d66b-6ddd-4325-bf5c-c07f326a82bd"
      },
      "source": [
        "len(os.listdir(dir_test))"
      ],
      "id": "0130a110-9122-460e-9604-6a52d00d1077",
      "execution_count": null,
      "outputs": [
        {
          "output_type": "execute_result",
          "data": {
            "text/plain": [
              "12500"
            ]
          },
          "metadata": {
            "tags": []
          },
          "execution_count": 33
        }
      ]
    },
    {
      "cell_type": "code",
      "metadata": {
        "id": "7b77fd88-11a9-4c8f-b67c-bfbd945f4acc"
      },
      "source": [
        "#Keras model for image classification\n",
        "model = tf.keras.models.Sequential([\n",
        "    # Alternating convolution and pooling layers to process the images before analysis\n",
        "    # The convulation layers accent features from the images,\n",
        "    # The pooling layers reduce the amount of information to process\n",
        "    tf.keras.layers.Conv2D(16,(3,3), activation='relu', input_shape=(150,150,3)),\n",
        "    tf.keras.layers.MaxPooling2D(2,2),\n",
        "    tf.keras.layers.Conv2D(32,(3,3), activation='relu'),\n",
        "    tf.keras.layers.MaxPooling2D(2,2),\n",
        "    tf.keras.layers.Conv2D(64,(3,3), activation='relu'),\n",
        "    tf.keras.layers.MaxPooling2D(2,2),\n",
        "    # Flatten the images for analysis by the nn\n",
        "    tf.keras.layers.Flatten(),\n",
        "    # Neural network for image classification 256 neuron hidden layer, with a 1 nueron output layer\n",
        "    tf.keras.layers.Dense(512, activation='relu'),\n",
        "    tf.keras.layers.Dense(1, activation ='sigmoid')\n",
        "])\n",
        "\n",
        "model.compile(optimizer=RMSprop(learning_rate=0.0005),\n",
        "              loss='binary_crossentropy',\n",
        "              metrics=['acc'])"
      ],
      "id": "7b77fd88-11a9-4c8f-b67c-bfbd945f4acc",
      "execution_count": null,
      "outputs": []
    },
    {
      "cell_type": "code",
      "metadata": {
        "id": "50f8f606-c0f3-45a2-9105-c16326376705",
        "outputId": "b54c3204-8eeb-498a-ecdc-cd5aef834b8c"
      },
      "source": [
        "# Configure tensorflow to generate training data from image directory, and normalize the image data\n",
        "train_datagen = ImageDataGenerator(rescale=1.0/255)\n",
        "train_generator = train_datagen.flow_from_directory(dir_training,\n",
        "                                                   batch_size = 10,\n",
        "                                                   class_mode='binary',\n",
        "                                                   target_size=(150,150))\n",
        "\n",
        "# Configure tensorflow to generate validation data from image directory, and normalize the image data\n",
        "validation_datagen = ImageDataGenerator(rescale=1.0/255) \n",
        "validation_generator = validation_datagen.flow_from_directory(dir_validation,\n",
        "                                                             batch_size = 10,\n",
        "                                                             class_mode='binary',\n",
        "                                                             target_size=(150,150))"
      ],
      "id": "50f8f606-c0f3-45a2-9105-c16326376705",
      "execution_count": null,
      "outputs": [
        {
          "output_type": "stream",
          "text": [
            "Found 22500 images belonging to 2 classes.\n",
            "Found 2500 images belonging to 2 classes.\n"
          ],
          "name": "stdout"
        }
      ]
    },
    {
      "cell_type": "code",
      "metadata": {
        "id": "4e2cd3bb-ebbd-4f6e-a098-dcd9bb5704c8",
        "outputId": "48a36eb5-1cdc-49cd-81d8-193af20516b9"
      },
      "source": [
        "run_model = model.fit(train_generator,\n",
        "                                epochs=2,\n",
        "                                verbose=1,\n",
        "                                validation_data=validation_generator)"
      ],
      "id": "4e2cd3bb-ebbd-4f6e-a098-dcd9bb5704c8",
      "execution_count": null,
      "outputs": [
        {
          "output_type": "stream",
          "text": [
            "Epoch 1/2\n",
            "2250/2250 [==============================] - 312s 139ms/step - loss: 0.5657 - acc: 0.7108 - val_loss: 0.4836 - val_acc: 0.7620\n",
            "Epoch 2/2\n",
            "2226/2250 [============================>.] - ETA: 3s - loss: 0.4545 - acc: 0.7884"
          ],
          "name": "stdout"
        }
      ]
    },
    {
      "cell_type": "code",
      "metadata": {
        "id": "fe11c712-e844-4bd6-8d70-62a71efcd34e"
      },
      "source": [
        ""
      ],
      "id": "fe11c712-e844-4bd6-8d70-62a71efcd34e",
      "execution_count": null,
      "outputs": []
    },
    {
      "cell_type": "code",
      "metadata": {
        "id": "1333eb7a-007c-4e94-92a8-1a3ef19f79c3"
      },
      "source": [
        ""
      ],
      "id": "1333eb7a-007c-4e94-92a8-1a3ef19f79c3",
      "execution_count": null,
      "outputs": []
    }
  ]
}